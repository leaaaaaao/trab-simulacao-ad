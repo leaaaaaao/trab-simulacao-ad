{
 "cells": [
  {
   "cell_type": "code",
   "execution_count": 19,
   "id": "0d339f37-48cf-41f4-9a45-cb7d595ea153",
   "metadata": {},
   "outputs": [],
   "source": [
    "from enum import Enum\n",
    "import numpy as np\n",
    "import queue\n",
    "import seaborn as sns"
   ]
  },
  {
   "cell_type": "markdown",
   "id": "f14554c6-d77f-4b20-bf61-2a0be785a84a",
   "metadata": {},
   "source": [
    "### Definição das estruturas de dados"
   ]
  },
  {
   "cell_type": "code",
   "execution_count": 20,
   "id": "0beb2c53-baf5-406f-aef7-4904deb17056",
   "metadata": {},
   "outputs": [],
   "source": [
    "class PriorityQueue:\n",
    "    \n",
    "    def __init__(self, chave=lambda x: x): # Parametrizado com a função usada para comparação. Assim, a classe é mais versátil.\n",
    "        self.heap = []\n",
    "        self.chave = chave\n",
    "\n",
    "    def menor(self):\n",
    "        if len(self.heap) == 0:\n",
    "            raise RuntimeError(\"Tentando ver o menor valor da fila de prioridade vazia\")\n",
    "            \n",
    "        return self.heap[0]\n",
    "    def empty(self):\n",
    "        if len(self.heap) == 0:\n",
    "            return True\n",
    "        else:\n",
    "            return False\n",
    "        \n",
    "    def pop(self):\n",
    "        if len(self.heap) == 0:\n",
    "            raise RuntimeError(\"Tentando extrair valor da fila de prioridade vazia\")\n",
    "            \n",
    "        menor = self.heap[0]\n",
    "        self.heap[0] = self.heap[-1]\n",
    "        self.heap.pop()\n",
    "        self.desce(0)\n",
    "\n",
    "        # print(\"heap: \", self.heap) # debug\n",
    "\n",
    "        return menor\n",
    "\n",
    "    def add(self, valor):\n",
    "        self.heap.append(valor)\n",
    "        self.sobe(len(self.heap) - 1)\n",
    "        \n",
    "        # print(\"Heap:\", self.heap) # debug\n",
    "    \n",
    "    def sobe(self, indice):\n",
    "        if indice == 0: # Já está \"no topo\"\n",
    "            return\n",
    "\n",
    "        pai = (indice - 1) // 2\n",
    "        if self.chave(self.heap[indice]) < self.chave(self.heap[pai]): # Se o novo elemento for maior que o pai\n",
    "            tmp = self.heap[pai]\n",
    "            self.heap[pai] = self.heap[indice]\n",
    "            self.heap[indice] = tmp\n",
    "            self.sobe(pai)\n",
    "\n",
    "    def desce(self, indice):\n",
    "        idx_filho_esq, idx_filho_dir = indice * 2 + 1, indice * 2 + 2\n",
    "\n",
    "        if len(self.heap) <= idx_filho_esq:\n",
    "            return\n",
    "        if len(self.heap) == idx_filho_dir:\n",
    "            filho_esq = self.heap[idx_filho_esq]\n",
    "            filho_dir = None\n",
    "        else:\n",
    "            filho_esq, filho_dir = self.heap[idx_filho_esq], self.heap[idx_filho_dir]\n",
    "\n",
    "        if filho_dir is None or self.chave(filho_esq) < self.chave(filho_dir):\n",
    "            menor_filho = filho_esq\n",
    "            idx_menor_filho = idx_filho_esq\n",
    "        else:\n",
    "            menor_filho = filho_dir\n",
    "            idx_menor_filho = idx_filho_dir\n",
    "        \n",
    "        if self.chave(self.heap[indice]) > self.chave(menor_filho):    \n",
    "            tmp = self.heap[idx_menor_filho]\n",
    "            self.heap[idx_menor_filho] = self.heap[indice]\n",
    "            self.heap[indice] = tmp\n",
    "            self.desce(idx_menor_filho)\n",
    "            "
   ]
  },
  {
   "cell_type": "code",
   "execution_count": 21,
   "id": "f652453b-f3d7-4a63-9be9-e695d4773745",
   "metadata": {},
   "outputs": [],
   "source": [
    "class Job:\n",
    "    job_id = 0\n",
    "    def __init__(self, tempo_chegada):\n",
    "        self.tempo_chegada = tempo_chegada\n",
    "        self.id = Job.job_id\n",
    "        Job.job_id += 1"
   ]
  },
  {
   "cell_type": "code",
   "execution_count": 22,
   "id": "281bc515-4cfa-4441-ac79-0d37a8caf9a5",
   "metadata": {},
   "outputs": [],
   "source": [
    "class TipoEvento(Enum):\n",
    "    CHEGADA = 0\n",
    "    SAIDA_S1 = 1\n",
    "    SAIDA_S2 = 2\n",
    "    SAIDA_S3 = 3"
   ]
  },
  {
   "cell_type": "markdown",
   "id": "cf6ac286-283b-4e3b-9549-33850600f44e",
   "metadata": {},
   "source": [
    "### Amostragens das VAs necessárias"
   ]
  },
  {
   "cell_type": "markdown",
   "id": "e5036879-2349-4d32-9945-3074d9642a6e",
   "metadata": {},
   "source": [
    "#### Exponencial\n",
    "Para amostrar essa VA, vamos utilizar o método da inversa da CDF. Dado que a pdf de $X \\sim Exp(\\lambda)$ é dada por\n",
    "$$f(x) = \\lambda e^{-\\lambda x}$$\n",
    "\n",
    "Podemos calcular a cdf $F(x)$ por:\n",
    "$$F(x) = \\int_{-\\infty}^x \\lambda e^{-\\lambda t} dt = \\int_0^x \\lambda e^{-\\lambda t} dt = $$\n",
    "$$\\left. -e^{-\\lambda t} \\right\\rvert^x_0 = -e^{-\\lambda x} - (- e^0) = $$\n",
    "$$1 - e^{-\\lambda x}$$\n",
    "\n",
    "E para calcular $F^{-1}(x)$,\n",
    "$$y = 1 - e^{-\\lambda x}$$\n",
    "\n",
    "Queremos encontrar $x$ em função de $y$,\n",
    "$$y - 1 = -e^{-\\lambda x}$$\n",
    "$$1 - y = e^{-\\lambda x}$$\n",
    "$$ln(1 - y) = -\\lambda x$$\n",
    "$$-\\frac{ln(1 - y)}{\\lambda} = x$$\n",
    "$$F^{-1}(x) = -\\frac{ln(1 - x)}{\\lambda}$$"
   ]
  },
  {
   "cell_type": "markdown",
   "id": "17d1269e-4000-4b5a-8348-240acebe69bb",
   "metadata": {},
   "source": [
    "#### Uniforme\n",
    "Para essa VA $X \\sim Unif(a, b)$, a pdf é dada por\n",
    "$$f(x) = \\frac{1}{b - a}$$\n",
    "\n",
    "Calculando a cdf,\n",
    "$$F(x) = \\int_{-\\infty}^x = \\int_a^t \\frac{1}{b - a} dt = $$\n",
    "$$\\left. \\frac{t}{b - a}\\right\\rvert^x_a = \\frac{x}{b - a} - \\frac{a}{b - a} = \\frac{x - a}{b - a}$$\n",
    "$$F(x) = \\frac{x - a}{b - a}$$\n",
    "\n",
    "Calculando a inversa:\n",
    "$$y = \\frac{x - a}{b - a}$$\n",
    "$$y(b - a) = x - a$$\n",
    "$$x = y(b - a) + a$$\n",
    "$$F^{-1}(x) = x(b - a) + a$$"
   ]
  },
  {
   "cell_type": "code",
   "execution_count": 23,
   "id": "4af5651f-59f1-4918-9123-0927a1a82d16",
   "metadata": {},
   "outputs": [],
   "source": [
    "class VAExponencial: # Para modelar o \"Inter-Arrival Time\" e os tamanhos dos jobs no terceiro cenário\n",
    "    def __init__(self, Lambda):\n",
    "        self.Lambda = Lambda\n",
    "\n",
    "    def inversa_cdf(self, x):\n",
    "        return -(np.log(1 - x)/self.Lambda)\n",
    "    \n",
    "    def amostrar(self):\n",
    "        return self.inversa_cdf(np.random.rand())\n",
    "        \n",
    "class VAConstante: # Distribuição dos tamanhos dos jobs no primeiro cenário\n",
    "    def __init__(self, c):\n",
    "        self.param = c\n",
    "    \n",
    "    def amostrar(self):\n",
    "        return self.param\n",
    "\n",
    "class VAUniforme: # Distribuição dos tamanhos dos jobs no segundo cenário\n",
    "    def __init__(self, a, b):\n",
    "        self.a = a\n",
    "        self.b = b\n",
    "\n",
    "    def inversa_cdf(self, x):\n",
    "        return x * (self.b - self.a) + self.a\n",
    "    \n",
    "    def amostrar(self):\n",
    "        return self.inversa_cdf(np.random.rand())"
   ]
  },
  {
   "cell_type": "code",
   "execution_count": 24,
   "id": "f777f921-c33d-40a2-a747-a60ac123f764",
   "metadata": {},
   "outputs": [
    {
     "name": "stdout",
     "output_type": "stream",
     "text": [
      "Média: 5.017970606649887 Correto, 1/lambda\n"
     ]
    },
    {
     "data": {
      "image/png": "[encoded data removed]",
      "text/plain": [
       "<Figure size 640x480 with 1 Axes>"
      ]
     },
     "metadata": {},
     "output_type": "display_data"
    }
   ],
   "source": [
    "# Testando empiricamente\n",
    "\n",
    "num_amostras = 500000\n",
    "exp = VAExponencial(1/5)\n",
    "lista = [exp.amostrar() for _ in range(num_amostras)]\n",
    "\n",
    "histograma = sns.histplot(lista)\n",
    "histograma.set_xlim(0, 10)\n",
    "\n",
    "print('Média:', np.mean(lista), \"Correto, 1/lambda\")"
   ]
  },
  {
   "cell_type": "code",
   "execution_count": 25,
   "id": "2b10ae67-2ff3-4795-8553-e4ee8ce3ec76",
   "metadata": {},
   "outputs": [
    {
     "data": {
      "text/plain": [
       "<Axes: ylabel='Count'>"
      ]
     },
     "execution_count": 25,
     "metadata": {},
     "output_type": "execute_result"
    },
    {
     "data": {
      "image/png": "[encoded data removed]",
      "text/plain": [
       "<Figure size 640x480 with 1 Axes>"
      ]
     },
     "metadata": {},
     "output_type": "display_data"
    }
   ],
   "source": [
    "unif = VAUniforme(3, 5)\n",
    "lista = [unif.amostrar() for i in range(num_amostras)]\n",
    "\n",
    "histograma = sns.histplot(lista)\n",
    "histograma"
   ]
  },
  {
   "cell_type": "markdown",
   "id": "f9137e8d-7fd9-4dcd-8542-6d0d6ecd5bdd",
   "metadata": {},
   "source": [
    "### Setup da Simulação"
   ]
  },
  {
   "cell_type": "code",
   "execution_count": 26,
   "id": "a57845ce-2706-4320-8767-2ef2d05a6ff5",
   "metadata": {},
   "outputs": [],
   "source": [
    "def simula_cenario(vas_cenario): # O parametro contém as variáveis aleatórias para cada servidor no cenário que está sendo simulado\n",
    "    num_jobs = 10000\n",
    "    num_jobs_warmup = 10000\n",
    "\n",
    "    filas_servidores = [None, queue.Queue(), queue.Queue(), queue.Queue()]\n",
    "    Job.job_id = 0\n",
    "    ultima_chegada = 0\n",
    "    exp = VAExponencial(2)\n",
    "    eventos = PriorityQueue(chave=lambda x: x[1])\n",
    "\n",
    "    # Todas as chegadas primeiro\n",
    "    for _ in range(num_jobs_warmup + num_jobs):\n",
    "        ultima_chegada += exp.amostrar()\n",
    "        eventos.add((TipoEvento.CHEGADA, ultima_chegada))\n",
    "\n",
    "    relogio = 0\n",
    "    tempos_no_sistema = []\n",
    "    while not eventos.empty():\n",
    "        # print(f\"{len(eventos.heap)} eventos na fila, relogio: {relogio}\") # debug\n",
    "\n",
    "        evento = eventos.pop()\n",
    "        relogio = evento[1]\n",
    "        match evento[0]:\n",
    "            case TipoEvento.CHEGADA:\n",
    "                # print(\"tratando chegada\") # debug\n",
    "                if filas_servidores[1].empty():\n",
    "                    eventos.add((TipoEvento.SAIDA_S1, relogio + vas_cenario['s_1'].amostrar()))\n",
    "\n",
    "                filas_servidores[1].put(Job(relogio))\n",
    "                                \n",
    "            case TipoEvento.SAIDA_S1:\n",
    "                # print(\"tratando saida s1\") # debug\n",
    "                job_saindo = filas_servidores[1].get()\n",
    "                \n",
    "                if not filas_servidores[1].empty(): # Adiciona a próxima saída, se houver job na fila\n",
    "                    eventos.add((TipoEvento.SAIDA_S1, relogio + vas_cenario['s_1'].amostrar()))\n",
    "                    \n",
    "                if np.random.rand() < 0.5:\n",
    "                    if filas_servidores[2].empty():\n",
    "                        eventos.add((TipoEvento.SAIDA_S2, relogio + vas_cenario['s_2'].amostrar()))\n",
    "                    filas_servidores[2].put(job_saindo)\n",
    "                    \n",
    "                else:\n",
    "                    if filas_servidores[3].empty():\n",
    "                        eventos.add((TipoEvento.SAIDA_S3, relogio + vas_cenario['s_3'].amostrar()))\n",
    "                    filas_servidores[3].put(job_saindo)\n",
    "                    \n",
    "            case TipoEvento.SAIDA_S2:\n",
    "                # print(\"tratando saida s2\") # debug\n",
    "                job_saindo = filas_servidores[2].get()\n",
    "\n",
    "                if not filas_servidores[2].empty():\n",
    "                    eventos.add((TipoEvento.SAIDA_S2, relogio + vas_cenario['s_2'].amostrar()))\n",
    "                \n",
    "                if np.random.rand() < 0.2:\n",
    "                    if filas_servidores[2].empty():\n",
    "                        eventos.add((TipoEvento.SAIDA_S2, relogio + vas_cenario['s_2'].amostrar()))\n",
    "                    filas_servidores[2].put(job_saindo)\n",
    "                    \n",
    "                elif job_saindo.id >= num_jobs_warmup:\n",
    "                        tempos_no_sistema.append(relogio - job_saindo.tempo_chegada)\n",
    "\n",
    "            case TipoEvento.SAIDA_S3:\n",
    "                # print(\"tratando saida s3\") # debug\n",
    "                job_saindo = filas_servidores[3].get()\n",
    "\n",
    "                if not filas_servidores[3].empty():\n",
    "                    eventos.add((TipoEvento.SAIDA_S3, relogio + vas_cenario['s_3'].amostrar()))\n",
    "                    \n",
    "                if job_saindo.id >= num_jobs_warmup:\n",
    "                    tempos_no_sistema.append(relogio - job_saindo.tempo_chegada)\n",
    "\n",
    "    tempo_medio = np.mean(tempos_no_sistema)\n",
    "    desvio_padrao =  np.std(tempos_no_sistema)\n",
    "    return tempo_medio, desvio_padrao"
   ]
  },
  {
   "cell_type": "markdown",
   "id": "5ef15e2c-2329-44c5-8907-2c1109105ce1",
   "metadata": {},
   "source": [
    "### Simulação"
   ]
  },
  {
   "cell_type": "code",
   "execution_count": 31,
   "id": "5b87f285-2bf8-412c-8b60-b2238f502322",
   "metadata": {},
   "outputs": [
    {
     "name": "stdout",
     "output_type": "stream",
     "text": [
      "CENÁRIO 1\n",
      "Tempo médio no sistema: 5.94\n",
      "Desvio padrão do tempo no sistema: 5.58\n",
      "\n",
      "CENÁRIO 2\n",
      "Tempo médio no sistema: 7.06\n",
      "Desvio padrão do tempo no sistema: 6.13\n",
      "\n",
      "CENÁRIO 3\n",
      "Tempo médio no sistema: 9.11\n",
      "Desvio padrão do tempo no sistema: 9.02\n",
      "\n"
     ]
    }
   ],
   "source": [
    "for num_cenario, vas_cenario in enumerate(vas_cenarios):\n",
    "    tempo_medio_no_sistema, desvio_padrao_tempo_no_sistema = simula_cenario(vas_cenario)\n",
    "    print(f\"CENÁRIO {num_cenario + 1}\") \n",
    "    print(f'Tempo médio no sistema: {tempo_medio_no_sistema:.2f}')\n",
    "    print(f'Desvio padrão do tempo no sistema: {desvio_padrao_tempo_no_sistema:.2f}')\n",
    "    print(\"\")"
   ]
  }
 ],
 "metadata": {
  "kernelspec": {
   "display_name": "Python 3 (ipykernel)",
   "language": "python",
   "name": "python3"
  },
  "language_info": {
   "codemirror_mode": {
    "name": "ipython",
    "version": 3
   },
   "file_extension": ".py",
   "mimetype": "text/x-python",
   "name": "python",
   "nbconvert_exporter": "python",
   "pygments_lexer": "ipython3",
   "version": "3.12.7"
  }
 },
 "nbformat": 4,
 "nbformat_minor": 5
}
